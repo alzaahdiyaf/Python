{
  "nbformat": 4,
  "nbformat_minor": 0,
  "metadata": {
    "colab": {
      "provenance": []
    },
    "kernelspec": {
      "name": "python3",
      "display_name": "Python 3"
    },
    "language_info": {
      "name": "python"
    }
  },
  "cells": [
    {
      "cell_type": "markdown",
      "source": [
        "#VARIABEL"
      ],
      "metadata": {
        "id": "u99DoTM0SGeO"
      }
    },
    {
      "cell_type": "code",
      "execution_count": null,
      "metadata": {
        "colab": {
          "base_uri": "https://localhost:8080/"
        },
        "id": "VBMFI7DgRiAg",
        "outputId": "bb02f5ba-a4ab-4dd6-aa84-0f0c4f6435fd"
      },
      "outputs": [
        {
          "output_type": "stream",
          "name": "stdout",
          "text": [
            "22\n"
          ]
        },
        {
          "output_type": "execute_result",
          "data": {
            "text/plain": [
              "int"
            ]
          },
          "metadata": {},
          "execution_count": 3
        }
      ],
      "source": [
        "x = 22\n",
        "print(x)\n",
        "type(x)"
      ]
    },
    {
      "cell_type": "code",
      "source": [
        "y = 'Mint'\n",
        "print(y)\n",
        "type(y)\n"
      ],
      "metadata": {
        "colab": {
          "base_uri": "https://localhost:8080/"
        },
        "id": "MAM-bSw_R0nd",
        "outputId": "39884f24-7878-4f24-83b3-ed31b7e71550"
      },
      "execution_count": null,
      "outputs": [
        {
          "output_type": "stream",
          "name": "stdout",
          "text": [
            "Mint\n"
          ]
        },
        {
          "output_type": "execute_result",
          "data": {
            "text/plain": [
              "str"
            ]
          },
          "metadata": {},
          "execution_count": 5
        }
      ]
    },
    {
      "cell_type": "code",
      "source": [
        "x,y,z = 'Chocolate', ' Vanila', 'Rocky Road'\n",
        "print(x)\n",
        "print(y)\n",
        "print(z)"
      ],
      "metadata": {
        "colab": {
          "base_uri": "https://localhost:8080/"
        },
        "id": "Y8q2BgSkS5h8",
        "outputId": "4347d8ce-1e1e-4342-d8c9-de15c7c79769"
      },
      "execution_count": null,
      "outputs": [
        {
          "output_type": "stream",
          "name": "stdout",
          "text": [
            "Chocolate\n",
            " Vanila\n",
            "Rocky Road\n"
          ]
        }
      ]
    },
    {
      "cell_type": "code",
      "source": [
        "x = y = z = 'Rocky Road'\n",
        "print(x)\n",
        "print(y)\n",
        "print(z)"
      ],
      "metadata": {
        "colab": {
          "base_uri": "https://localhost:8080/"
        },
        "id": "wKI2HTiVTh47",
        "outputId": "7a0db08f-10bf-4158-9395-e38fdf48515c"
      },
      "execution_count": null,
      "outputs": [
        {
          "output_type": "stream",
          "name": "stdout",
          "text": [
            "Rocky Road\n",
            "Rocky Road\n",
            "Rocky Road\n"
          ]
        }
      ]
    },
    {
      "cell_type": "code",
      "source": [
        "ice_cream = ['Chocolate', ' Vanila', 'Rocky Road']\n",
        "x,y,z = ice_cream\n",
        "print(x)\n",
        "print(y)\n",
        "print(z)"
      ],
      "metadata": {
        "colab": {
          "base_uri": "https://localhost:8080/"
        },
        "id": "Fjw4q5x8T5_R",
        "outputId": "53b118f6-9f80-4df3-98a6-5b0039b5d659"
      },
      "execution_count": null,
      "outputs": [
        {
          "output_type": "stream",
          "name": "stdout",
          "text": [
            "Chocolate\n",
            " Vanila\n",
            "Rocky Road\n"
          ]
        }
      ]
    },
    {
      "cell_type": "code",
      "source": [
        "#Camel Case\n",
        "#Test Variable Case\n",
        "testVariableCase = 'Vanilla Swirl'"
      ],
      "metadata": {
        "id": "aNSYsa1YU7zX"
      },
      "execution_count": null,
      "outputs": []
    },
    {
      "cell_type": "code",
      "source": [
        "#Pascal Case\n",
        "#Test Variable Case\n",
        "TestVariableCase = 'Vanilla Swirl'"
      ],
      "metadata": {
        "id": "Vc8n93A2Vkl6"
      },
      "execution_count": null,
      "outputs": []
    },
    {
      "cell_type": "code",
      "source": [
        "#Snake Case\n",
        "#Test Variable Case\n",
        "test_variable_Case = 'Vanilla Swirl'"
      ],
      "metadata": {
        "id": "j2YBVSCzWjgL"
      },
      "execution_count": null,
      "outputs": []
    },
    {
      "cell_type": "code",
      "source": [
        "x = \"Ice Cream\" + \".\"\n",
        "print(x)"
      ],
      "metadata": {
        "colab": {
          "base_uri": "https://localhost:8080/"
        },
        "id": "D_2oXzQOXMl9",
        "outputId": "9b43cf7b-b330-4abe-d62b-e4f463326969"
      },
      "execution_count": null,
      "outputs": [
        {
          "output_type": "stream",
          "name": "stdout",
          "text": [
            "Ice Cream.\n"
          ]
        }
      ]
    },
    {
      "cell_type": "code",
      "source": [
        "x = 1\n",
        "y = 2\n",
        "z = 3\n",
        "print(x+y+z)"
      ],
      "metadata": {
        "colab": {
          "base_uri": "https://localhost:8080/"
        },
        "id": "kkUEz5rtYNoX",
        "outputId": "fb1f28f5-98c0-4f69-ab1c-7c5c4b7f25b0"
      },
      "execution_count": null,
      "outputs": [
        {
          "output_type": "stream",
          "name": "stdout",
          "text": [
            "6\n"
          ]
        }
      ]
    },
    {
      "cell_type": "code",
      "source": [
        "x = \"Ice Cream\"\n",
        "y = 2\n",
        "print(x,y)"
      ],
      "metadata": {
        "colab": {
          "base_uri": "https://localhost:8080/"
        },
        "id": "yxMqy7kAaGmX",
        "outputId": "ab93f260-34e2-446f-94dd-751c6530f966"
      },
      "execution_count": null,
      "outputs": [
        {
          "output_type": "stream",
          "name": "stdout",
          "text": [
            "Ice Cream 2\n"
          ]
        }
      ]
    },
    {
      "cell_type": "markdown",
      "source": [
        "##DATA TYPE\n",
        "#NUMERIK"
      ],
      "metadata": {
        "id": "KxTEk50Gsp0s"
      }
    },
    {
      "cell_type": "code",
      "source": [
        "#1. INTEGER\n",
        "type(-12 + 100)"
      ],
      "metadata": {
        "colab": {
          "base_uri": "https://localhost:8080/"
        },
        "id": "8uV7GNIKt0sg",
        "outputId": "1a8bd260-997b-4de0-bddc-f71edd66d0ef"
      },
      "execution_count": null,
      "outputs": [
        {
          "output_type": "execute_result",
          "data": {
            "text/plain": [
              "int"
            ]
          },
          "metadata": {},
          "execution_count": 2
        }
      ]
    },
    {
      "cell_type": "code",
      "source": [
        "#2. FLOAT\n",
        "type(-12 + 10.25)"
      ],
      "metadata": {
        "colab": {
          "base_uri": "https://localhost:8080/"
        },
        "id": "aEj9WFIVuRIw",
        "outputId": "1c2a9a9b-8e58-47bd-d9ab-ea0c99edb0c8"
      },
      "execution_count": null,
      "outputs": [
        {
          "output_type": "execute_result",
          "data": {
            "text/plain": [
              "float"
            ]
          },
          "metadata": {},
          "execution_count": 3
        }
      ]
    },
    {
      "cell_type": "code",
      "source": [
        "#3. COMPLEX\n",
        "type(-12 + 3J)\n"
      ],
      "metadata": {
        "colab": {
          "base_uri": "https://localhost:8080/"
        },
        "id": "9dl8Vsq_un0r",
        "outputId": "1fec2b91-8f34-408f-d0f9-a60d045c7cc6"
      },
      "execution_count": null,
      "outputs": [
        {
          "output_type": "execute_result",
          "data": {
            "text/plain": [
              "complex"
            ]
          },
          "metadata": {},
          "execution_count": 4
        }
      ]
    },
    {
      "cell_type": "markdown",
      "source": [
        "BOOLEAN"
      ],
      "metadata": {
        "id": "1Ux8NBBtwOam"
      }
    },
    {
      "cell_type": "code",
      "source": [
        "type(True)\n",
        "type(False)"
      ],
      "metadata": {
        "colab": {
          "base_uri": "https://localhost:8080/"
        },
        "id": "9PIRfF8axOAx",
        "outputId": "46e5e9ea-beeb-46d7-a6a2-e1582eb822b6"
      },
      "execution_count": null,
      "outputs": [
        {
          "output_type": "execute_result",
          "data": {
            "text/plain": [
              "bool"
            ]
          },
          "metadata": {},
          "execution_count": 6
        }
      ]
    },
    {
      "cell_type": "code",
      "source": [
        "1 > 5"
      ],
      "metadata": {
        "colab": {
          "base_uri": "https://localhost:8080/"
        },
        "id": "AHmm4FAyx5cb",
        "outputId": "85b6a1b4-0b69-42d3-999e-d81ca4d3f1f3"
      },
      "execution_count": null,
      "outputs": [
        {
          "output_type": "execute_result",
          "data": {
            "text/plain": [
              "False"
            ]
          },
          "metadata": {},
          "execution_count": 9
        }
      ]
    },
    {
      "cell_type": "code",
      "source": [
        "type(1>5)"
      ],
      "metadata": {
        "colab": {
          "base_uri": "https://localhost:8080/"
        },
        "id": "AQzaDR-TyOAJ",
        "outputId": "867bfeca-688a-4754-83b7-45db8acfce82"
      },
      "execution_count": null,
      "outputs": [
        {
          "output_type": "execute_result",
          "data": {
            "text/plain": [
              "bool"
            ]
          },
          "metadata": {},
          "execution_count": 10
        }
      ]
    },
    {
      "cell_type": "markdown",
      "source": [
        "STRING"
      ],
      "metadata": {
        "id": "z2hKCdDm-5Le"
      }
    },
    {
      "cell_type": "code",
      "source": [
        "'Single Quote'"
      ],
      "metadata": {
        "colab": {
          "base_uri": "https://localhost:8080/",
          "height": 36
        },
        "id": "EcuzylFz-7vZ",
        "outputId": "f057d00c-8bfa-4fca-9a70-109fc50f2a36"
      },
      "execution_count": null,
      "outputs": [
        {
          "output_type": "execute_result",
          "data": {
            "text/plain": [
              "'Single Quote'"
            ],
            "application/vnd.google.colaboratory.intrinsic+json": {
              "type": "string"
            }
          },
          "metadata": {},
          "execution_count": 11
        }
      ]
    },
    {
      "cell_type": "code",
      "source": [
        "\"Double Quote\""
      ],
      "metadata": {
        "colab": {
          "base_uri": "https://localhost:8080/",
          "height": 36
        },
        "id": "Fw7d_bHJ-_zs",
        "outputId": "4c81cb1b-eaa4-408d-b6eb-81d5f1d25ba4"
      },
      "execution_count": null,
      "outputs": [
        {
          "output_type": "execute_result",
          "data": {
            "text/plain": [
              "'Double Quote'"
            ],
            "application/vnd.google.colaboratory.intrinsic+json": {
              "type": "string"
            }
          },
          "metadata": {},
          "execution_count": 12
        }
      ]
    },
    {
      "cell_type": "code",
      "source": [
        "Multiline = \"\"\"\n",
        "The ice cream vanquished\n",
        "my loging for sweets,\n",
        "upon this diet i look away,\n",
        "it no longer exists on this day\n",
        "\"\"\"\n",
        "print(Multiline)"
      ],
      "metadata": {
        "colab": {
          "base_uri": "https://localhost:8080/"
        },
        "id": "WCJ0JcdI_ErI",
        "outputId": "eead3af1-c9b4-459d-99df-249342708e5a"
      },
      "execution_count": null,
      "outputs": [
        {
          "output_type": "stream",
          "name": "stdout",
          "text": [
            "\n",
            "The ice cream vanquished\n",
            "my loging for sweets,\n",
            "upon this diet i look away,\n",
            "it no longer exists on this day\n",
            "\n"
          ]
        }
      ]
    },
    {
      "cell_type": "code",
      "source": [
        "#INDEKS (mengambil huruf sampai ke)\n",
        "a = 'Hello World!'\n",
        "print(a[:5])"
      ],
      "metadata": {
        "colab": {
          "base_uri": "https://localhost:8080/"
        },
        "id": "U6p07Chw_WtI",
        "outputId": "c9bdfedc-325b-4c27-c4b0-ce37d63f0152"
      },
      "execution_count": null,
      "outputs": [
        {
          "output_type": "stream",
          "name": "stdout",
          "text": [
            "Hello\n"
          ]
        }
      ]
    },
    {
      "cell_type": "code",
      "source": [
        "a = 'Hello World!'\n",
        "print(a[6])"
      ],
      "metadata": {
        "colab": {
          "base_uri": "https://localhost:8080/"
        },
        "id": "am7mG_OnAVY1",
        "outputId": "c34e424a-231c-4918-9482-bc1e5cc4ec17"
      },
      "execution_count": null,
      "outputs": [
        {
          "output_type": "stream",
          "name": "stdout",
          "text": [
            "W\n"
          ]
        }
      ]
    },
    {
      "cell_type": "code",
      "source": [
        "a = 'Hello World!'\n",
        "print(a[-3])"
      ],
      "metadata": {
        "colab": {
          "base_uri": "https://localhost:8080/"
        },
        "id": "Z2yvZpe4Ak4f",
        "outputId": "2400d0ac-51d0-4ae0-d8b5-ecbf30639059"
      },
      "execution_count": null,
      "outputs": [
        {
          "output_type": "stream",
          "name": "stdout",
          "text": [
            "l\n"
          ]
        }
      ]
    },
    {
      "cell_type": "code",
      "source": [
        "a = 'Hello World!'\n",
        "print(a[2:5])"
      ],
      "metadata": {
        "colab": {
          "base_uri": "https://localhost:8080/"
        },
        "id": "dMyUbWz1BGO3",
        "outputId": "dd37bcdc-3489-473a-aa69-4154cd64f832"
      },
      "execution_count": null,
      "outputs": [
        {
          "output_type": "stream",
          "name": "stdout",
          "text": [
            "llo\n"
          ]
        }
      ]
    },
    {
      "cell_type": "code",
      "source": [
        "a*3"
      ],
      "metadata": {
        "colab": {
          "base_uri": "https://localhost:8080/",
          "height": 36
        },
        "id": "iG2nT_JXBMzO",
        "outputId": "bb6b210d-02ee-4cfd-8b5a-65912cf54b87"
      },
      "execution_count": null,
      "outputs": [
        {
          "output_type": "execute_result",
          "data": {
            "text/plain": [
              "'Hello World!Hello World!Hello World!'"
            ],
            "application/vnd.google.colaboratory.intrinsic+json": {
              "type": "string"
            }
          },
          "metadata": {},
          "execution_count": 23
        }
      ]
    },
    {
      "cell_type": "code",
      "source": [
        "a + a"
      ],
      "metadata": {
        "colab": {
          "base_uri": "https://localhost:8080/",
          "height": 36
        },
        "id": "sHHPFUaeBZiv",
        "outputId": "47142683-e43f-4152-f535-c6b71d1ed88a"
      },
      "execution_count": null,
      "outputs": [
        {
          "output_type": "execute_result",
          "data": {
            "text/plain": [
              "'Hello World!Hello World!'"
            ],
            "application/vnd.google.colaboratory.intrinsic+json": {
              "type": "string"
            }
          },
          "metadata": {},
          "execution_count": 24
        }
      ]
    },
    {
      "cell_type": "markdown",
      "source": [
        "LIST"
      ],
      "metadata": {
        "id": "UunbasecB2C6"
      }
    },
    {
      "cell_type": "code",
      "source": [
        "[1,2,3]"
      ],
      "metadata": {
        "colab": {
          "base_uri": "https://localhost:8080/"
        },
        "id": "VF4Bt24HB36o",
        "outputId": "bbd29ae5-5310-4cb8-b1ad-3cd79e9d0a61"
      },
      "execution_count": null,
      "outputs": [
        {
          "output_type": "execute_result",
          "data": {
            "text/plain": [
              "[1, 2, 3]"
            ]
          },
          "metadata": {},
          "execution_count": 25
        }
      ]
    },
    {
      "cell_type": "code",
      "source": [
        "['Cookie Dough', 'Strawberry', 'Chocolate']"
      ],
      "metadata": {
        "colab": {
          "base_uri": "https://localhost:8080/"
        },
        "id": "p56B1uSZCktv",
        "outputId": "fe97db90-b708-4690-d9f0-fa4ba442f3b0"
      },
      "execution_count": null,
      "outputs": [
        {
          "output_type": "execute_result",
          "data": {
            "text/plain": [
              "['Cookie Dough', 'Strawberry', 'Chocolate']"
            ]
          },
          "metadata": {},
          "execution_count": 26
        }
      ]
    },
    {
      "cell_type": "code",
      "source": [
        "['Vanila', 3, ['Scoops','Spoon'], True]"
      ],
      "metadata": {
        "colab": {
          "base_uri": "https://localhost:8080/"
        },
        "id": "607RwtSYCvnA",
        "outputId": "cefd49d3-69f4-4fa3-81d6-963bd509f96e"
      },
      "execution_count": null,
      "outputs": [
        {
          "output_type": "execute_result",
          "data": {
            "text/plain": [
              "['Vanila', 3, ['Scoops', 'Spoon'], True]"
            ]
          },
          "metadata": {},
          "execution_count": 27
        }
      ]
    },
    {
      "cell_type": "code",
      "source": [
        "ice_cream = ['Cookie Dough', 'Strawberry', 'Chocolate']\n",
        "ice_cream.append('Salted Caramel')\n",
        "#menambahkan di akhir\n",
        "ice_cream"
      ],
      "metadata": {
        "colab": {
          "base_uri": "https://localhost:8080/"
        },
        "id": "rUSGNDLHDIAD",
        "outputId": "6e12484f-ac89-4320-ba86-51cef977ef49"
      },
      "execution_count": null,
      "outputs": [
        {
          "output_type": "execute_result",
          "data": {
            "text/plain": [
              "['Cookie Dough', 'Strawberry', 'Chocolate', 'Salted Caramel']"
            ]
          },
          "metadata": {},
          "execution_count": 28
        }
      ]
    },
    {
      "cell_type": "code",
      "source": [
        "#mengganti dengan indeks\n",
        "ice_cream[0] = 'Butter Pecan'\n",
        "ice_cream"
      ],
      "metadata": {
        "colab": {
          "base_uri": "https://localhost:8080/"
        },
        "id": "IHuJfBNEDmdh",
        "outputId": "95796a44-ce4f-46a5-a8b6-c3c3e069ce77"
      },
      "execution_count": null,
      "outputs": [
        {
          "output_type": "execute_result",
          "data": {
            "text/plain": [
              "['Butter Pecan', 'Strawberry', 'Chocolate', 'Salted Caramel']"
            ]
          },
          "metadata": {},
          "execution_count": 31
        }
      ]
    },
    {
      "cell_type": "code",
      "source": [
        "nest_list = ['Vanila', 3, ['Scoops','Spoon'], True]\n",
        "nest_list[0]"
      ],
      "metadata": {
        "colab": {
          "base_uri": "https://localhost:8080/",
          "height": 36
        },
        "id": "nUH2ddYpEM-h",
        "outputId": "ce72c676-b74d-469a-b082-394d17cc78f9"
      },
      "execution_count": null,
      "outputs": [
        {
          "output_type": "execute_result",
          "data": {
            "text/plain": [
              "'Vanila'"
            ],
            "application/vnd.google.colaboratory.intrinsic+json": {
              "type": "string"
            }
          },
          "metadata": {},
          "execution_count": 34
        }
      ]
    },
    {
      "cell_type": "code",
      "source": [
        "nest_list = ['Vanila', 3, ['Scoops','Spoon'], True]\n",
        "nest_list[2][1]"
      ],
      "metadata": {
        "colab": {
          "base_uri": "https://localhost:8080/",
          "height": 36
        },
        "id": "5YyZUgjWFZi3",
        "outputId": "8b41d7c8-920f-42d1-fade-5468bca83e5c"
      },
      "execution_count": null,
      "outputs": [
        {
          "output_type": "execute_result",
          "data": {
            "text/plain": [
              "'Spoon'"
            ],
            "application/vnd.google.colaboratory.intrinsic+json": {
              "type": "string"
            }
          },
          "metadata": {},
          "execution_count": 36
        }
      ]
    },
    {
      "cell_type": "markdown",
      "source": [
        "TUPLES"
      ],
      "metadata": {
        "id": "AObwAQduF-kS"
      }
    },
    {
      "cell_type": "code",
      "source": [
        "tuple_scoops = (1,2,3,2,1)"
      ],
      "metadata": {
        "id": "Kc56KvR5FcLf"
      },
      "execution_count": null,
      "outputs": []
    },
    {
      "cell_type": "code",
      "source": [
        "tuple_scoops[0]"
      ],
      "metadata": {
        "colab": {
          "base_uri": "https://localhost:8080/"
        },
        "id": "n2M12_r_IeUN",
        "outputId": "b3b64aab-da57-4808-b477-eab9cb257cbc"
      },
      "execution_count": null,
      "outputs": [
        {
          "output_type": "execute_result",
          "data": {
            "text/plain": [
              "1"
            ]
          },
          "metadata": {},
          "execution_count": 39
        }
      ]
    },
    {
      "cell_type": "code",
      "source": [
        "tuple_scoops.append(3)"
      ],
      "metadata": {
        "colab": {
          "base_uri": "https://localhost:8080/",
          "height": 186
        },
        "id": "tRidp_TvIkQI",
        "outputId": "5880601b-ad6c-4f15-dc41-8a77bcb48012"
      },
      "execution_count": null,
      "outputs": [
        {
          "output_type": "error",
          "ename": "AttributeError",
          "evalue": "ignored",
          "traceback": [
            "\u001b[0;31m---------------------------------------------------------------------------\u001b[0m",
            "\u001b[0;31mAttributeError\u001b[0m                            Traceback (most recent call last)",
            "\u001b[0;32m<ipython-input-40-8280c555728f>\u001b[0m in \u001b[0;36m<cell line: 1>\u001b[0;34m()\u001b[0m\n\u001b[0;32m----> 1\u001b[0;31m \u001b[0mtuple_scoops\u001b[0m\u001b[0;34m.\u001b[0m\u001b[0mappend\u001b[0m\u001b[0;34m(\u001b[0m\u001b[0;36m3\u001b[0m\u001b[0;34m)\u001b[0m\u001b[0;34m\u001b[0m\u001b[0;34m\u001b[0m\u001b[0m\n\u001b[0m",
            "\u001b[0;31mAttributeError\u001b[0m: 'tuple' object has no attribute 'append'"
          ]
        }
      ]
    },
    {
      "cell_type": "markdown",
      "source": [
        "SET"
      ],
      "metadata": {
        "id": "WloM0Cp6JTKH"
      }
    },
    {
      "cell_type": "code",
      "source": [
        "daily_pints = {1,2,3}"
      ],
      "metadata": {
        "id": "P48U1cVMI4ay"
      },
      "execution_count": null,
      "outputs": []
    },
    {
      "cell_type": "code",
      "source": [
        "type(daily_pints)"
      ],
      "metadata": {
        "colab": {
          "base_uri": "https://localhost:8080/"
        },
        "id": "ccmCBTucKQd-",
        "outputId": "b8668ab1-eb8d-4dce-90c3-9a49a3fb028d"
      },
      "execution_count": null,
      "outputs": [
        {
          "output_type": "execute_result",
          "data": {
            "text/plain": [
              "set"
            ]
          },
          "metadata": {},
          "execution_count": 42
        }
      ]
    },
    {
      "cell_type": "code",
      "source": [
        "daily_pints_log = {1,2,31,2,3,4,1,2,5,6,3,2}\n",
        "print(daily_pints_log)"
      ],
      "metadata": {
        "colab": {
          "base_uri": "https://localhost:8080/"
        },
        "id": "xF4YTYuqKg_L",
        "outputId": "6d30c572-63ee-4d98-bb2b-4dcc5afbb8c6"
      },
      "execution_count": null,
      "outputs": [
        {
          "output_type": "stream",
          "name": "stdout",
          "text": [
            "{1, 2, 3, 4, 5, 6, 31}\n"
          ]
        }
      ]
    },
    {
      "cell_type": "code",
      "source": [
        "wifes_daily_pints_log = {1,3,5,7,3,24,5,7,3,2,0}\n",
        "print(daily_pints_log | wifes_daily_pints_log)"
      ],
      "metadata": {
        "colab": {
          "base_uri": "https://localhost:8080/"
        },
        "id": "uzkTzvnsLHB1",
        "outputId": "dc93e54f-76d4-4c4c-c7bd-fcb0d570b293"
      },
      "execution_count": null,
      "outputs": [
        {
          "output_type": "stream",
          "name": "stdout",
          "text": [
            "{0, 1, 2, 3, 4, 5, 6, 7, 24, 31}\n"
          ]
        }
      ]
    },
    {
      "cell_type": "code",
      "source": [
        "print(daily_pints_log & wifes_daily_pints_log)"
      ],
      "metadata": {
        "colab": {
          "base_uri": "https://localhost:8080/"
        },
        "id": "p3T-yusEL3ix",
        "outputId": "e5b7ada8-6bc5-438e-d5ef-465165531903"
      },
      "execution_count": null,
      "outputs": [
        {
          "output_type": "stream",
          "name": "stdout",
          "text": [
            "{1, 2, 3, 5}\n"
          ]
        }
      ]
    },
    {
      "cell_type": "code",
      "source": [
        "print(daily_pints_log - wifes_daily_pints_log)"
      ],
      "metadata": {
        "colab": {
          "base_uri": "https://localhost:8080/"
        },
        "id": "EIfla2d2MWKk",
        "outputId": "04d5479f-cfde-41f3-cd66-e267f2c59bd2"
      },
      "execution_count": null,
      "outputs": [
        {
          "output_type": "stream",
          "name": "stdout",
          "text": [
            "{4, 6, 31}\n"
          ]
        }
      ]
    },
    {
      "cell_type": "markdown",
      "source": [
        "DICTIONARIES"
      ],
      "metadata": {
        "id": "X0V0UW3ONKbE"
      }
    },
    {
      "cell_type": "code",
      "source": [
        "dict_cream = {'name' : 'Alza Ahdiya Fatakhsya', 'weekly intake' : 5, 'favorite ice cream' : ['MCC', 'Chocolate']}\n",
        "print(dict_cream)"
      ],
      "metadata": {
        "colab": {
          "base_uri": "https://localhost:8080/"
        },
        "id": "pi6AqmOZNSHt",
        "outputId": "43891f30-04b7-4645-9431-828146020de8"
      },
      "execution_count": null,
      "outputs": [
        {
          "output_type": "stream",
          "name": "stdout",
          "text": [
            "{'name': 'Alza Ahdiya Fatakhsya', 'weekly intake': 5, 'favorite ice cream': ['MCC', 'Chocolate']}\n"
          ]
        }
      ]
    },
    {
      "cell_type": "code",
      "source": [
        "dict_cream.keys()"
      ],
      "metadata": {
        "colab": {
          "base_uri": "https://localhost:8080/"
        },
        "id": "kz5zu16TPRph",
        "outputId": "f2696255-b024-4627-aa05-00142874199f"
      },
      "execution_count": null,
      "outputs": [
        {
          "output_type": "execute_result",
          "data": {
            "text/plain": [
              "dict_keys(['name', 'weekly intake', 'favorite ice cream'])"
            ]
          },
          "metadata": {},
          "execution_count": 49
        }
      ]
    },
    {
      "cell_type": "code",
      "source": [
        "dict_cream.values()"
      ],
      "metadata": {
        "colab": {
          "base_uri": "https://localhost:8080/"
        },
        "id": "2-7y090rPb-6",
        "outputId": "8a2d8550-8c1e-4cad-af6d-6a1ee93f024d"
      },
      "execution_count": null,
      "outputs": [
        {
          "output_type": "execute_result",
          "data": {
            "text/plain": [
              "dict_values(['Alza Ahdiya Fatakhsya', 5, ['MCC', 'Chocolate']])"
            ]
          },
          "metadata": {},
          "execution_count": 50
        }
      ]
    },
    {
      "cell_type": "code",
      "source": [
        "dict_cream.items()"
      ],
      "metadata": {
        "colab": {
          "base_uri": "https://localhost:8080/"
        },
        "id": "OmZGsAOlP36Q",
        "outputId": "0467e632-206b-4cdd-fdeb-2989f388120a"
      },
      "execution_count": null,
      "outputs": [
        {
          "output_type": "execute_result",
          "data": {
            "text/plain": [
              "dict_items([('name', 'Alza Ahdiya Fatakhsya'), ('weekly intake', 5), ('favorite ice cream', ['MCC', 'Chocolate'])])"
            ]
          },
          "metadata": {},
          "execution_count": 52
        }
      ]
    },
    {
      "cell_type": "code",
      "source": [
        "dict_cream['name']"
      ],
      "metadata": {
        "colab": {
          "base_uri": "https://localhost:8080/",
          "height": 36
        },
        "id": "qGf6IjbaP758",
        "outputId": "0b243594-4c12-40f3-8188-55f11ee4e1fa"
      },
      "execution_count": null,
      "outputs": [
        {
          "output_type": "execute_result",
          "data": {
            "text/plain": [
              "'Alza Ahdiya Fatakhsya'"
            ],
            "application/vnd.google.colaboratory.intrinsic+json": {
              "type": "string"
            }
          },
          "metadata": {},
          "execution_count": 53
        }
      ]
    },
    {
      "cell_type": "code",
      "source": [
        "dict_cream['name'] = \"Alza\"\n",
        "print(dict_cream)"
      ],
      "metadata": {
        "colab": {
          "base_uri": "https://localhost:8080/"
        },
        "id": "Ux8dmtiEQMkd",
        "outputId": "0267f881-f98d-4c0a-e901-940770167c54"
      },
      "execution_count": null,
      "outputs": [
        {
          "output_type": "stream",
          "name": "stdout",
          "text": [
            "{'name': 'Alza', 'weekly intake': 5, 'favorite ice cream': ['MCC', 'Chocolate']}\n"
          ]
        }
      ]
    },
    {
      "cell_type": "code",
      "source": [
        "dict_cream.update({'name': 'Alza', 'weekly intake': 10, 'weight' : 300})\n",
        "print(dict_cream)"
      ],
      "metadata": {
        "colab": {
          "base_uri": "https://localhost:8080/"
        },
        "id": "TRjTqKXYQUJY",
        "outputId": "f86ca8fd-ea3b-4407-d179-f789f5057c65"
      },
      "execution_count": null,
      "outputs": [
        {
          "output_type": "stream",
          "name": "stdout",
          "text": [
            "{'name': 'Alza', 'weekly intake': 10, 'favorite ice cream': ['MCC', 'Chocolate'], 'weight': 300}\n"
          ]
        }
      ]
    },
    {
      "cell_type": "code",
      "source": [
        "del dict_cream['weight']\n",
        "print(dict_cream)"
      ],
      "metadata": {
        "colab": {
          "base_uri": "https://localhost:8080/"
        },
        "id": "r41LdGNTQyZ_",
        "outputId": "d29c5377-360e-4bd9-a2a1-345b945b8988"
      },
      "execution_count": null,
      "outputs": [
        {
          "output_type": "stream",
          "name": "stdout",
          "text": [
            "{'name': 'Alza', 'weekly intake': 10, 'favorite ice cream': ['MCC', 'Chocolate']}\n"
          ]
        }
      ]
    },
    {
      "cell_type": "markdown",
      "source": [
        "#COMPARISON - LOGICAL - MEMBERSHIP OPERATORS"
      ],
      "metadata": {
        "id": "o03cNtaKFtUo"
      }
    },
    {
      "cell_type": "markdown",
      "source": [
        "COMPARISON OPERATORS"
      ],
      "metadata": {
        "id": "iB2DjJlep7rr"
      }
    },
    {
      "cell_type": "code",
      "source": [
        "10 = 10"
      ],
      "metadata": {
        "colab": {
          "base_uri": "https://localhost:8080/",
          "height": 148
        },
        "id": "iMaanPm_FyoK",
        "outputId": "563f7876-0493-4557-90a8-555286d1db7e"
      },
      "execution_count": null,
      "outputs": [
        {
          "output_type": "error",
          "ename": "SyntaxError",
          "evalue": "ignored",
          "traceback": [
            "\u001b[0;36m  File \u001b[0;32m\"<ipython-input-1-891d8cbaac36>\"\u001b[0;36m, line \u001b[0;32m1\u001b[0m\n\u001b[0;31m    10 = 10\u001b[0m\n\u001b[0m    ^\u001b[0m\n\u001b[0;31mSyntaxError\u001b[0m\u001b[0;31m:\u001b[0m cannot assign to literal here. Maybe you meant '==' instead of '='?\n"
          ]
        }
      ]
    },
    {
      "cell_type": "code",
      "source": [
        "10 == 10"
      ],
      "metadata": {
        "colab": {
          "base_uri": "https://localhost:8080/"
        },
        "id": "-iReIT6MF3EO",
        "outputId": "61fb9e14-486d-418c-8957-9dd4fbd0b29e"
      },
      "execution_count": null,
      "outputs": [
        {
          "output_type": "execute_result",
          "data": {
            "text/plain": [
              "True"
            ]
          },
          "metadata": {},
          "execution_count": 2
        }
      ]
    },
    {
      "cell_type": "code",
      "source": [
        "10 == 50"
      ],
      "metadata": {
        "colab": {
          "base_uri": "https://localhost:8080/"
        },
        "id": "tS84axuXF-aa",
        "outputId": "f273e365-f473-470e-9d27-cffe446199e0"
      },
      "execution_count": null,
      "outputs": [
        {
          "output_type": "execute_result",
          "data": {
            "text/plain": [
              "False"
            ]
          },
          "metadata": {},
          "execution_count": 3
        }
      ]
    },
    {
      "cell_type": "code",
      "source": [
        "10 != 50"
      ],
      "metadata": {
        "colab": {
          "base_uri": "https://localhost:8080/"
        },
        "id": "SFWGE0GEGBpf",
        "outputId": "45c01931-378b-414c-ea0d-2e1f90fb5ccc"
      },
      "execution_count": null,
      "outputs": [
        {
          "output_type": "execute_result",
          "data": {
            "text/plain": [
              "True"
            ]
          },
          "metadata": {},
          "execution_count": 4
        }
      ]
    },
    {
      "cell_type": "code",
      "source": [
        "10 < 50"
      ],
      "metadata": {
        "colab": {
          "base_uri": "https://localhost:8080/"
        },
        "id": "Jbso4hQ0GVQo",
        "outputId": "76c0d913-2641-4a83-94da-8e1a005f20f5"
      },
      "execution_count": null,
      "outputs": [
        {
          "output_type": "execute_result",
          "data": {
            "text/plain": [
              "True"
            ]
          },
          "metadata": {},
          "execution_count": 5
        }
      ]
    },
    {
      "cell_type": "markdown",
      "source": [
        "#LOGICAL OPERATORS\n",
        "\n"
      ],
      "metadata": {
        "id": "ypsx9zVUl1s1"
      }
    },
    {
      "cell_type": "code",
      "source": [
        "10 > 50"
      ],
      "metadata": {
        "colab": {
          "base_uri": "https://localhost:8080/"
        },
        "id": "LTTeMGQxl9E6",
        "outputId": "50d666b9-698a-41e3-f595-642a78d885ce"
      },
      "execution_count": null,
      "outputs": [
        {
          "output_type": "execute_result",
          "data": {
            "text/plain": [
              "False"
            ]
          },
          "metadata": {},
          "execution_count": 2
        }
      ]
    },
    {
      "cell_type": "code",
      "source": [
        "(10 > 50) and (50 > 10)\n",
        "#False karena cuman salah satu yang benar pake and bukan or"
      ],
      "metadata": {
        "colab": {
          "base_uri": "https://localhost:8080/"
        },
        "id": "A9h7OSwKmQR8",
        "outputId": "6b41aaa2-3a49-4067-fe3a-7617a6ae5719"
      },
      "execution_count": null,
      "outputs": [
        {
          "output_type": "execute_result",
          "data": {
            "text/plain": [
              "False"
            ]
          },
          "metadata": {},
          "execution_count": 3
        }
      ]
    },
    {
      "cell_type": "code",
      "source": [
        "('vanila' > 'chocolate') and (50 > 10)\n",
        "#TRUE karena and perlu 2 pernyataan benar. v > c"
      ],
      "metadata": {
        "colab": {
          "base_uri": "https://localhost:8080/"
        },
        "id": "QpJPsip1nJcm",
        "outputId": "3d028a3c-c10b-4d4d-b065-1999d49925d3"
      },
      "execution_count": null,
      "outputs": [
        {
          "output_type": "execute_result",
          "data": {
            "text/plain": [
              "True"
            ]
          },
          "metadata": {},
          "execution_count": 6
        }
      ]
    },
    {
      "cell_type": "code",
      "source": [
        "(10 > 50) and (50 > 10)\n",
        "#True karena 2 pernyataan benar pake and"
      ],
      "metadata": {
        "colab": {
          "base_uri": "https://localhost:8080/"
        },
        "id": "G2AwekbImfz2",
        "outputId": "0cc78c76-672d-4d88-e49b-95de8b7784ca"
      },
      "execution_count": null,
      "outputs": [
        {
          "output_type": "execute_result",
          "data": {
            "text/plain": [
              "False"
            ]
          },
          "metadata": {},
          "execution_count": 4
        }
      ]
    },
    {
      "cell_type": "code",
      "source": [
        "(10 > 50) or (50 > 10)\n",
        "#TRUE karena or hanya perlu 1 pernyataan benar"
      ],
      "metadata": {
        "colab": {
          "base_uri": "https://localhost:8080/"
        },
        "id": "vXsZD4bVmsLV",
        "outputId": "25c8a3c3-97f5-4830-936b-38e82f58f62e"
      },
      "execution_count": null,
      "outputs": [
        {
          "output_type": "execute_result",
          "data": {
            "text/plain": [
              "True"
            ]
          },
          "metadata": {},
          "execution_count": 5
        }
      ]
    },
    {
      "cell_type": "code",
      "source": [
        "not (50 > 10)"
      ],
      "metadata": {
        "colab": {
          "base_uri": "https://localhost:8080/"
        },
        "id": "4bnY-faLmxxZ",
        "outputId": "2f89e42a-edd4-4ade-de8b-abf29aaabafd"
      },
      "execution_count": null,
      "outputs": [
        {
          "output_type": "execute_result",
          "data": {
            "text/plain": [
              "False"
            ]
          },
          "metadata": {},
          "execution_count": 7
        }
      ]
    },
    {
      "cell_type": "markdown",
      "source": [
        "#MEMBERSHIP OPERATORS"
      ],
      "metadata": {
        "id": "UV586xI6noHM"
      }
    },
    {
      "cell_type": "code",
      "source": [
        "ice_cream = 'I Love Chocolate ice cream'\n",
        "'Love' in ice_cream"
      ],
      "metadata": {
        "colab": {
          "base_uri": "https://localhost:8080/"
        },
        "id": "bYUQS4jdnsft",
        "outputId": "fed27490-dcec-44b3-bdc8-21e3c4075fbf"
      },
      "execution_count": null,
      "outputs": [
        {
          "output_type": "execute_result",
          "data": {
            "text/plain": [
              "True"
            ]
          },
          "metadata": {},
          "execution_count": 9
        }
      ]
    },
    {
      "cell_type": "code",
      "source": [
        "scoops = [1,2,3,4,5]\n",
        "2 in scoops"
      ],
      "metadata": {
        "colab": {
          "base_uri": "https://localhost:8080/"
        },
        "id": "dpcyhZ06quLi",
        "outputId": "4e1a9351-86c3-4f9d-9f0c-ee360e764f32"
      },
      "execution_count": null,
      "outputs": [
        {
          "output_type": "execute_result",
          "data": {
            "text/plain": [
              "True"
            ]
          },
          "metadata": {},
          "execution_count": 10
        }
      ]
    },
    {
      "cell_type": "code",
      "source": [
        "scoops = [1,2,3,4,5]\n",
        "6 not in scoops"
      ],
      "metadata": {
        "colab": {
          "base_uri": "https://localhost:8080/"
        },
        "id": "TK6Nr0eCrGpn",
        "outputId": "b1344961-a729-42e8-d259-f9b76b880f8e"
      },
      "execution_count": null,
      "outputs": [
        {
          "output_type": "execute_result",
          "data": {
            "text/plain": [
              "True"
            ]
          },
          "metadata": {},
          "execution_count": 11
        }
      ]
    },
    {
      "cell_type": "code",
      "source": [
        "scoops = [1,2,3,4,5]\n",
        "wanted_scoops = 8\n",
        "wanted_scoops in scoops"
      ],
      "metadata": {
        "colab": {
          "base_uri": "https://localhost:8080/"
        },
        "id": "Uj2aPZx0rLz0",
        "outputId": "11399340-92e3-4eac-9026-a5b04e4083d0"
      },
      "execution_count": null,
      "outputs": [
        {
          "output_type": "execute_result",
          "data": {
            "text/plain": [
              "False"
            ]
          },
          "metadata": {},
          "execution_count": 12
        }
      ]
    },
    {
      "cell_type": "markdown",
      "source": [
        "#IF -ELF - ELSE STATEMENT"
      ],
      "metadata": {
        "id": "iwTrk6rqrdTs"
      }
    },
    {
      "cell_type": "code",
      "source": [
        "if 25 > 10:\n",
        "  print('it worked')"
      ],
      "metadata": {
        "colab": {
          "base_uri": "https://localhost:8080/"
        },
        "id": "CqjhLDLjb3Le",
        "outputId": "060fea65-0d4b-4f41-e6b9-f96f3fd5f8f3"
      },
      "execution_count": null,
      "outputs": [
        {
          "output_type": "stream",
          "name": "stdout",
          "text": [
            "it worked\n"
          ]
        }
      ]
    },
    {
      "cell_type": "code",
      "source": [
        "if 25 < 10:\n",
        "  print('it worked')\n",
        "else:\n",
        "  print('it did not work')"
      ],
      "metadata": {
        "colab": {
          "base_uri": "https://localhost:8080/"
        },
        "id": "dFq7cHjYcGvP",
        "outputId": "4e9b1ecc-58a9-4fea-8dc9-d9affa63b961"
      },
      "execution_count": null,
      "outputs": [
        {
          "output_type": "stream",
          "name": "stdout",
          "text": [
            "it did not work\n"
          ]
        }
      ]
    },
    {
      "cell_type": "code",
      "source": [
        "if 25 < 10:\n",
        "  print('it worked')\n",
        "elif 25 < 30:\n",
        "  print('elif worked!')\n",
        "else:\n",
        "  print('it did not work')"
      ],
      "metadata": {
        "colab": {
          "base_uri": "https://localhost:8080/"
        },
        "id": "aUCa0ey8c_a0",
        "outputId": "55c31c14-83bc-48a4-a772-6b2c867d7e73"
      },
      "execution_count": null,
      "outputs": [
        {
          "output_type": "stream",
          "name": "stdout",
          "text": [
            "elif worked!\n"
          ]
        }
      ]
    },
    {
      "cell_type": "code",
      "source": [
        "if 25 < 10:\n",
        "  print('it worked')\n",
        "elif 25 < 20:\n",
        "  print('elif worked!')\n",
        "elif 25 < 21:\n",
        "  print('elif 2 worked!')\n",
        "elif 25 < 40:\n",
        "  print('elif 3 worked!')\n",
        "elif 25 < 50:\n",
        "  print('elif 4 worked!')\n",
        "else:\n",
        "  print('it did not work')"
      ],
      "metadata": {
        "colab": {
          "base_uri": "https://localhost:8080/"
        },
        "id": "bUuehhQydZzL",
        "outputId": "a2808eb1-544e-4135-daeb-112ed9f5565c"
      },
      "execution_count": null,
      "outputs": [
        {
          "output_type": "stream",
          "name": "stdout",
          "text": [
            "elif 3 worked!\n"
          ]
        }
      ]
    },
    {
      "cell_type": "code",
      "source": [
        "if (25 < 10) or (1<3):\n",
        "  print('it worked')\n",
        "elif 25 < 20:\n",
        "  print('elif worked!')\n",
        "elif 25 < 21:\n",
        "  print('elif 2 worked!')\n",
        "elif 25 < 40:\n",
        "  print('elif 3 worked!')\n",
        "elif 25 < 50:\n",
        "  print('elif 4 worked!')\n",
        "else:\n",
        "  print('it did not work')"
      ],
      "metadata": {
        "colab": {
          "base_uri": "https://localhost:8080/"
        },
        "id": "Nww_lq1ydwO5",
        "outputId": "773b25eb-15ce-40f0-f251-05ed994a0762"
      },
      "execution_count": null,
      "outputs": [
        {
          "output_type": "stream",
          "name": "stdout",
          "text": [
            "it worked\n"
          ]
        }
      ]
    },
    {
      "cell_type": "code",
      "source": [
        "print('it worked') if 10>30 else print ('it did not work')"
      ],
      "metadata": {
        "colab": {
          "base_uri": "https://localhost:8080/"
        },
        "id": "f64-CCH2eZ0Q",
        "outputId": "db16607d-61f3-4dd9-86c4-55f5c77ef624"
      },
      "execution_count": null,
      "outputs": [
        {
          "output_type": "stream",
          "name": "stdout",
          "text": [
            "it did not work\n"
          ]
        }
      ]
    },
    {
      "cell_type": "code",
      "source": [
        "if (25 < 10) or (3<1):\n",
        "  print('it worked')\n",
        "  if 10 > 5:\n",
        "    print('this nested if statement worked')\n",
        "elif 25 < 20:\n",
        "  print('elif worked!')\n",
        "elif 25 < 21:\n",
        "  print('elif 2 worked!')\n",
        "elif 25 < 40:\n",
        "  print('elif 3 worked!')\n",
        "elif 25 < 50:\n",
        "  print('elif 4 worked!')\n",
        "else:\n",
        "  print('it did not work')"
      ],
      "metadata": {
        "colab": {
          "base_uri": "https://localhost:8080/"
        },
        "id": "_kIIGMJ8e2Ck",
        "outputId": "ac7b9279-e845-45e0-aa0f-182e6b7439bd"
      },
      "execution_count": null,
      "outputs": [
        {
          "output_type": "stream",
          "name": "stdout",
          "text": [
            "elif 3 worked!\n"
          ]
        }
      ]
    },
    {
      "cell_type": "markdown",
      "source": [
        "#FOR LOOPS"
      ],
      "metadata": {
        "id": "_FqjOIi_vivv"
      }
    },
    {
      "cell_type": "code",
      "source": [
        "integers = [1,2,3,4,5]"
      ],
      "metadata": {
        "id": "4K2tCmvi4t4q"
      },
      "execution_count": null,
      "outputs": []
    },
    {
      "cell_type": "code",
      "source": [
        "for number in integers:\n",
        "  print(number)"
      ],
      "metadata": {
        "colab": {
          "base_uri": "https://localhost:8080/"
        },
        "id": "4QpN3BsO40Af",
        "outputId": "ee3998f8-3208-4f7d-944f-1d088f647f87"
      },
      "execution_count": null,
      "outputs": [
        {
          "output_type": "stream",
          "name": "stdout",
          "text": [
            "1\n",
            "2\n",
            "3\n",
            "4\n",
            "5\n"
          ]
        }
      ]
    },
    {
      "cell_type": "code",
      "source": [
        "for number in integers:\n",
        "  print('yep')"
      ],
      "metadata": {
        "colab": {
          "base_uri": "https://localhost:8080/"
        },
        "id": "krAZ7ia45MuV",
        "outputId": "ce147965-f8fc-4277-bfb6-f98c4d2dbc73"
      },
      "execution_count": null,
      "outputs": [
        {
          "output_type": "stream",
          "name": "stdout",
          "text": [
            "yep\n",
            "yep\n",
            "yep\n",
            "yep\n",
            "yep\n"
          ]
        }
      ]
    },
    {
      "cell_type": "code",
      "source": [
        "integers = [1,2,3,4,5]\n",
        "for jelly in integers:\n",
        "  print(jelly + jelly )"
      ],
      "metadata": {
        "colab": {
          "base_uri": "https://localhost:8080/"
        },
        "id": "xw1In6235Xig",
        "outputId": "022f8f4f-cf01-47c8-a0b8-8db2a7a1ff9e"
      },
      "execution_count": null,
      "outputs": [
        {
          "output_type": "stream",
          "name": "stdout",
          "text": [
            "2\n",
            "4\n",
            "6\n",
            "8\n",
            "10\n"
          ]
        }
      ]
    },
    {
      "cell_type": "code",
      "source": [
        "ice_cream_dict = {'name': 'Alza', 'weekly intake':5, 'favorite ice cream':['MCC', 'Chocolate']}\n",
        "for cream in ice_cream_dict.values():\n",
        "  print(cream)"
      ],
      "metadata": {
        "colab": {
          "base_uri": "https://localhost:8080/"
        },
        "id": "019-cx8c5u4d",
        "outputId": "349bdc45-eee2-46ce-f155-3f2de519c3b3"
      },
      "execution_count": null,
      "outputs": [
        {
          "output_type": "stream",
          "name": "stdout",
          "text": [
            "Alza\n",
            "5\n",
            "['MCC', 'Chocolate']\n"
          ]
        }
      ]
    },
    {
      "cell_type": "code",
      "source": [
        "for key, value in ice_cream_dict.items():\n",
        "  print(key, '->', value)"
      ],
      "metadata": {
        "colab": {
          "base_uri": "https://localhost:8080/"
        },
        "id": "4ITFB_Cq6XOQ",
        "outputId": "aa10932d-113a-4214-97e5-738843d52342"
      },
      "execution_count": null,
      "outputs": [
        {
          "output_type": "stream",
          "name": "stdout",
          "text": [
            "name -> Alza\n",
            "weekly intake -> 5\n",
            "favorite ice cream -> ['MCC', 'Chocolate']\n"
          ]
        }
      ]
    },
    {
      "cell_type": "markdown",
      "source": [
        "Nested for Loops"
      ],
      "metadata": {
        "id": "9i1LyEHi9I2n"
      }
    },
    {
      "cell_type": "code",
      "source": [
        "flavors = ['Vanilla','Chocolate', 'Cookie Dough']\n",
        "toppings = ['Hot Fudg', 'Oreos', ' Marshmallows']"
      ],
      "metadata": {
        "id": "uDJp4HC49NLL"
      },
      "execution_count": null,
      "outputs": []
    },
    {
      "cell_type": "code",
      "source": [
        "for one in flavors:\n",
        "  for two in toppings:\n",
        "    print(one, 'topped with', two)"
      ],
      "metadata": {
        "colab": {
          "base_uri": "https://localhost:8080/"
        },
        "id": "HFuyN0PS-GYH",
        "outputId": "b7858396-596a-43a1-dcf0-9c9052559c5e"
      },
      "execution_count": null,
      "outputs": [
        {
          "output_type": "stream",
          "name": "stdout",
          "text": [
            "Vanilla topped with Hot Fudg\n",
            "Vanilla topped with Oreos\n",
            "Vanilla topped with  Marshmallows\n",
            "Chocolate topped with Hot Fudg\n",
            "Chocolate topped with Oreos\n",
            "Chocolate topped with  Marshmallows\n",
            "Cookie Dough topped with Hot Fudg\n",
            "Cookie Dough topped with Oreos\n",
            "Cookie Dough topped with  Marshmallows\n"
          ]
        }
      ]
    },
    {
      "cell_type": "markdown",
      "source": [
        "#WHILE LOOPS"
      ],
      "metadata": {
        "id": "E_qhH4Ve_GYM"
      }
    },
    {
      "cell_type": "code",
      "source": [
        "number = 0\n",
        "while number < 5:\n",
        "  print(number)\n",
        "  number = number + 1"
      ],
      "metadata": {
        "colab": {
          "base_uri": "https://localhost:8080/"
        },
        "id": "WLa-0h6O_J5n",
        "outputId": "980ec926-b735-499e-f1e0-b5c0a92d11d4"
      },
      "execution_count": null,
      "outputs": [
        {
          "output_type": "stream",
          "name": "stdout",
          "text": [
            "0\n",
            "1\n",
            "2\n",
            "3\n",
            "4\n"
          ]
        }
      ]
    },
    {
      "cell_type": "code",
      "source": [
        "number = 0\n",
        "while number < 5:\n",
        "  print(number)\n",
        "  number = number + 2"
      ],
      "metadata": {
        "id": "ygsOi9WXEkza",
        "colab": {
          "base_uri": "https://localhost:8080/"
        },
        "outputId": "a25ed45d-01e4-4701-90b3-7cd93a442f26"
      },
      "execution_count": null,
      "outputs": [
        {
          "output_type": "stream",
          "name": "stdout",
          "text": [
            "0\n",
            "2\n",
            "4\n"
          ]
        }
      ]
    },
    {
      "cell_type": "code",
      "source": [
        "number = 0\n",
        "while number < 5:\n",
        "  print(number)\n",
        "  if number == 3:\n",
        "    break\n",
        "  number = number + 1"
      ],
      "metadata": {
        "colab": {
          "base_uri": "https://localhost:8080/"
        },
        "id": "wQWTuu45xpSd",
        "outputId": "fc703456-40c8-4d07-d2fc-1e08c343f21c"
      },
      "execution_count": null,
      "outputs": [
        {
          "output_type": "stream",
          "name": "stdout",
          "text": [
            "0\n",
            "1\n",
            "2\n",
            "3\n"
          ]
        }
      ]
    },
    {
      "cell_type": "code",
      "source": [
        "number = 0\n",
        "while number < 5:\n",
        "  print(number)\n",
        "  if number == 6:\n",
        "    break\n",
        "  number = number + 1\n",
        "else :\n",
        "  print('no longer <5')"
      ],
      "metadata": {
        "colab": {
          "base_uri": "https://localhost:8080/"
        },
        "id": "EVdo7mSlyPhE",
        "outputId": "4da7b65a-e80b-42e2-be3e-d4599a854ff8"
      },
      "execution_count": null,
      "outputs": [
        {
          "output_type": "stream",
          "name": "stdout",
          "text": [
            "0\n",
            "1\n",
            "2\n",
            "3\n",
            "4\n",
            "no longer <5\n"
          ]
        }
      ]
    },
    {
      "cell_type": "code",
      "source": [
        "number = 0\n",
        "while number < 5:\n",
        "  number = number + 1\n",
        "  if number == 3:\n",
        "    continue\n",
        "  print(number)\n",
        "else :\n",
        "  print('no longer <5')"
      ],
      "metadata": {
        "colab": {
          "base_uri": "https://localhost:8080/"
        },
        "id": "WySR8j5r0KHt",
        "outputId": "263136c4-c988-4588-ea6a-01774c21ec95"
      },
      "execution_count": null,
      "outputs": [
        {
          "output_type": "stream",
          "name": "stdout",
          "text": [
            "1\n",
            "2\n",
            "4\n",
            "5\n",
            "no longer <5\n"
          ]
        }
      ]
    },
    {
      "cell_type": "code",
      "source": [
        "number = 0\n",
        "while number < 5:\n",
        "    print(number)\n",
        "    if number == 3:\n",
        "        number = number + 1  # Move this statement outside the if block\n",
        "        continue\n",
        "    number = number + 1\n",
        "else:\n",
        "    print('no longer <5')"
      ],
      "metadata": {
        "colab": {
          "base_uri": "https://localhost:8080/"
        },
        "id": "buJy3jfR0sH9",
        "outputId": "189b402b-f200-4e73-a5fa-075add8f83a7"
      },
      "execution_count": null,
      "outputs": [
        {
          "output_type": "stream",
          "name": "stdout",
          "text": [
            "0\n",
            "1\n",
            "2\n",
            "3\n",
            "4\n",
            "no longer <5\n"
          ]
        }
      ]
    },
    {
      "cell_type": "markdown",
      "source": [
        "#FUNCTIONS"
      ],
      "metadata": {
        "id": "D5UJ3RsCVyoS"
      }
    },
    {
      "cell_type": "code",
      "source": [
        "def first_func():\n",
        "  print('we did it!')\n",
        "first_func()"
      ],
      "metadata": {
        "colab": {
          "base_uri": "https://localhost:8080/"
        },
        "id": "GiO14U6_V1Mn",
        "outputId": "25c39e16-a80e-42c9-b7b6-96359e8a07bf"
      },
      "execution_count": null,
      "outputs": [
        {
          "output_type": "stream",
          "name": "stdout",
          "text": [
            "we did it!\n"
          ]
        }
      ]
    },
    {
      "cell_type": "code",
      "source": [
        "def number_squared(number):\n",
        "  print(number**2)\n",
        "number_squared(5)"
      ],
      "metadata": {
        "colab": {
          "base_uri": "https://localhost:8080/"
        },
        "id": "OsTBenPBWE9E",
        "outputId": "26b3b8b1-f77f-469a-fcd7-573edbd23f51"
      },
      "execution_count": null,
      "outputs": [
        {
          "output_type": "stream",
          "name": "stdout",
          "text": [
            "25\n"
          ]
        }
      ]
    },
    {
      "cell_type": "code",
      "source": [
        "def number_squared_cust(number,power):\n",
        "  print(number**power)\n",
        "number_squared_cust(5,3)"
      ],
      "metadata": {
        "colab": {
          "base_uri": "https://localhost:8080/"
        },
        "id": "H4zcjeu_W5hU",
        "outputId": "466a9622-fc79-4d1a-b0ec-084d5805a754"
      },
      "execution_count": null,
      "outputs": [
        {
          "output_type": "stream",
          "name": "stdout",
          "text": [
            "125\n"
          ]
        }
      ]
    },
    {
      "cell_type": "code",
      "source": [
        "def number_args(*number):\n",
        "  print(number[0]*number[1])\n",
        "number_args(5,6,1,2,8)"
      ],
      "metadata": {
        "colab": {
          "base_uri": "https://localhost:8080/"
        },
        "id": "VgtzvEWUgjU5",
        "outputId": "9373e2da-150d-4640-f381-9b1591960b6c"
      },
      "execution_count": null,
      "outputs": [
        {
          "output_type": "stream",
          "name": "stdout",
          "text": [
            "30\n"
          ]
        }
      ]
    },
    {
      "cell_type": "code",
      "source": [
        "args_tuple = (5,6,1,2,8)\n",
        "number_args(*args_tuple)"
      ],
      "metadata": {
        "colab": {
          "base_uri": "https://localhost:8080/"
        },
        "id": "tPpv03rriE5V",
        "outputId": "91b8da43-9cbf-4904-f21c-16d5bc69331d"
      },
      "execution_count": null,
      "outputs": [
        {
          "output_type": "stream",
          "name": "stdout",
          "text": [
            "30\n"
          ]
        }
      ]
    },
    {
      "cell_type": "code",
      "source": [
        "def number_squared_cust(number,power):\n",
        "  print(number**power)\n",
        "number_squared_cust(power = 5, number = 3)"
      ],
      "metadata": {
        "colab": {
          "base_uri": "https://localhost:8080/"
        },
        "id": "BbdkGvrhjHEt",
        "outputId": "c9f13645-1315-4268-eb32-8beee076d58d"
      },
      "execution_count": null,
      "outputs": [
        {
          "output_type": "stream",
          "name": "stdout",
          "text": [
            "243\n"
          ]
        }
      ]
    },
    {
      "cell_type": "code",
      "source": [
        "def number_kwarg(**number):\n",
        "  print('My number is : ' + number['integer'] + ' My other number :' + number['integer2'])\n",
        "number_kwarg(integer = '2309', integer2 = '349')"
      ],
      "metadata": {
        "colab": {
          "base_uri": "https://localhost:8080/"
        },
        "id": "tQFqTjX-j2n_",
        "outputId": "7cece334-8225-4f07-f718-95f44764f600"
      },
      "execution_count": null,
      "outputs": [
        {
          "output_type": "stream",
          "name": "stdout",
          "text": [
            "My number is : 2309 My other number :349\n"
          ]
        }
      ]
    },
    {
      "cell_type": "markdown",
      "source": [
        "#CONVERTING DATA TYPES"
      ],
      "metadata": {
        "id": "zKSLs636nFeo"
      }
    },
    {
      "cell_type": "code",
      "source": [
        "num_int = 7\n",
        "type(num_int)"
      ],
      "metadata": {
        "colab": {
          "base_uri": "https://localhost:8080/"
        },
        "id": "R4oZwK8mnJfB",
        "outputId": "67318d00-f78b-471c-d3ae-70045d385664"
      },
      "execution_count": null,
      "outputs": [
        {
          "output_type": "execute_result",
          "data": {
            "text/plain": [
              "int"
            ]
          },
          "metadata": {},
          "execution_count": 17
        }
      ]
    },
    {
      "cell_type": "code",
      "source": [
        "num_string = '7'\n",
        "type(num_string)"
      ],
      "metadata": {
        "colab": {
          "base_uri": "https://localhost:8080/"
        },
        "id": "UYyM1JZ4niMC",
        "outputId": "7ae6f124-7402-40ad-ddeb-844820949fdf"
      },
      "execution_count": null,
      "outputs": [
        {
          "output_type": "execute_result",
          "data": {
            "text/plain": [
              "str"
            ]
          },
          "metadata": {},
          "execution_count": 26
        }
      ]
    },
    {
      "cell_type": "code",
      "source": [
        "num_sum = num_int + num_string"
      ],
      "metadata": {
        "colab": {
          "base_uri": "https://localhost:8080/",
          "height": 186
        },
        "id": "sJPhqcThpNM1",
        "outputId": "ecdb6c91-d515-417a-abac-a3a3d9215397"
      },
      "execution_count": null,
      "outputs": [
        {
          "output_type": "error",
          "ename": "TypeError",
          "evalue": "ignored",
          "traceback": [
            "\u001b[0;31m---------------------------------------------------------------------------\u001b[0m",
            "\u001b[0;31mTypeError\u001b[0m                                 Traceback (most recent call last)",
            "\u001b[0;32m<ipython-input-27-05522a054fe7>\u001b[0m in \u001b[0;36m<cell line: 1>\u001b[0;34m()\u001b[0m\n\u001b[0;32m----> 1\u001b[0;31m \u001b[0mnum_sum\u001b[0m \u001b[0;34m=\u001b[0m \u001b[0mnum_int\u001b[0m \u001b[0;34m+\u001b[0m \u001b[0mnum_string\u001b[0m\u001b[0;34m\u001b[0m\u001b[0;34m\u001b[0m\u001b[0m\n\u001b[0m",
            "\u001b[0;31mTypeError\u001b[0m: unsupported operand type(s) for +: 'int' and 'str'"
          ]
        }
      ]
    },
    {
      "cell_type": "code",
      "source": [
        "num_string = int(num_string)\n",
        "type(num_string)"
      ],
      "metadata": {
        "colab": {
          "base_uri": "https://localhost:8080/"
        },
        "id": "seECN09Fn_Ud",
        "outputId": "61b53bd6-4e1b-4ee8-e3c4-132cc3537d07"
      },
      "execution_count": null,
      "outputs": [
        {
          "output_type": "execute_result",
          "data": {
            "text/plain": [
              "int"
            ]
          },
          "metadata": {},
          "execution_count": 23
        }
      ]
    },
    {
      "cell_type": "code",
      "source": [
        "num_sum = num_int + num_string\n",
        "print(num_sum)"
      ],
      "metadata": {
        "colab": {
          "base_uri": "https://localhost:8080/"
        },
        "id": "VT0e5Ampnt6J",
        "outputId": "8f24846d-ce78-4c59-dbc6-fbfd06d6d209"
      },
      "execution_count": null,
      "outputs": [
        {
          "output_type": "stream",
          "name": "stdout",
          "text": [
            "14\n"
          ]
        }
      ]
    },
    {
      "cell_type": "code",
      "source": [
        "list_type = [1,2,3]\n",
        "type(list_type)"
      ],
      "metadata": {
        "colab": {
          "base_uri": "https://localhost:8080/"
        },
        "id": "6cAVG1KVn5-W",
        "outputId": "b4be1cc4-c85b-4c52-d57c-2322741cd329"
      },
      "execution_count": null,
      "outputs": [
        {
          "output_type": "execute_result",
          "data": {
            "text/plain": [
              "list"
            ]
          },
          "metadata": {},
          "execution_count": 28
        }
      ]
    },
    {
      "cell_type": "code",
      "source": [
        "tuple(list_type)"
      ],
      "metadata": {
        "colab": {
          "base_uri": "https://localhost:8080/"
        },
        "id": "VpIrBo49qJIZ",
        "outputId": "51380cfe-a739-4d00-cccd-fe25524ff3ea"
      },
      "execution_count": null,
      "outputs": [
        {
          "output_type": "execute_result",
          "data": {
            "text/plain": [
              "(1, 2, 3)"
            ]
          },
          "metadata": {},
          "execution_count": 29
        }
      ]
    },
    {
      "cell_type": "code",
      "source": [
        "type(tuple(list_type))"
      ],
      "metadata": {
        "colab": {
          "base_uri": "https://localhost:8080/"
        },
        "id": "MTNwMSKlqN_p",
        "outputId": "249ff9d7-924e-486b-e425-a0235ed30154"
      },
      "execution_count": null,
      "outputs": [
        {
          "output_type": "execute_result",
          "data": {
            "text/plain": [
              "tuple"
            ]
          },
          "metadata": {},
          "execution_count": 30
        }
      ]
    },
    {
      "cell_type": "code",
      "source": [
        "list_type = [1,2,3,3,2,1,2,3,2,1]\n",
        "set(list_type)"
      ],
      "metadata": {
        "colab": {
          "base_uri": "https://localhost:8080/"
        },
        "id": "BWOiZBaXqQdT",
        "outputId": "1e04455a-416b-4970-a74b-b70504556e22"
      },
      "execution_count": null,
      "outputs": [
        {
          "output_type": "execute_result",
          "data": {
            "text/plain": [
              "{1, 2, 3}"
            ]
          },
          "metadata": {},
          "execution_count": 31
        }
      ]
    },
    {
      "cell_type": "code",
      "source": [
        "dict_type = {'name' : 'Alza', 'Age' : 22, 'hair' :'N/A'}\n",
        "type(dict_type)"
      ],
      "metadata": {
        "colab": {
          "base_uri": "https://localhost:8080/"
        },
        "id": "E2THFJokrGZq",
        "outputId": "83736ef0-5377-4769-a01f-8acc8cbffd48"
      },
      "execution_count": null,
      "outputs": [
        {
          "output_type": "execute_result",
          "data": {
            "text/plain": [
              "dict"
            ]
          },
          "metadata": {},
          "execution_count": 34
        }
      ]
    },
    {
      "cell_type": "code",
      "source": [
        "dict_type.items()"
      ],
      "metadata": {
        "colab": {
          "base_uri": "https://localhost:8080/"
        },
        "id": "Ib_8CkwsrlyO",
        "outputId": "8797c5e9-a647-40a1-ff75-587a2d593859"
      },
      "execution_count": null,
      "outputs": [
        {
          "output_type": "execute_result",
          "data": {
            "text/plain": [
              "dict_items([('name', 'Alza'), ('Age', 22), ('hair', 'N/A')])"
            ]
          },
          "metadata": {},
          "execution_count": 35
        }
      ]
    },
    {
      "cell_type": "code",
      "source": [
        "dict_type.values()"
      ],
      "metadata": {
        "colab": {
          "base_uri": "https://localhost:8080/"
        },
        "id": "ZKRGjvhcsOi6",
        "outputId": "19a04252-f846-4bbf-d0c3-3b93da63fb51"
      },
      "execution_count": null,
      "outputs": [
        {
          "output_type": "execute_result",
          "data": {
            "text/plain": [
              "dict_values(['Alza', 22, 'N/A'])"
            ]
          },
          "metadata": {},
          "execution_count": 38
        }
      ]
    },
    {
      "cell_type": "code",
      "source": [
        "dict_type.keys()"
      ],
      "metadata": {
        "colab": {
          "base_uri": "https://localhost:8080/"
        },
        "id": "hfm0BZc6sS2d",
        "outputId": "928b1827-5b7e-4922-ec97-a5549a5d4040"
      },
      "execution_count": null,
      "outputs": [
        {
          "output_type": "execute_result",
          "data": {
            "text/plain": [
              "dict_keys(['name', 'Age', 'hair'])"
            ]
          },
          "metadata": {},
          "execution_count": 39
        }
      ]
    },
    {
      "cell_type": "code",
      "source": [
        "list(dict_type.keys())"
      ],
      "metadata": {
        "colab": {
          "base_uri": "https://localhost:8080/"
        },
        "id": "JAFJwyOOsUQh",
        "outputId": "255e28dd-2680-4360-a6f1-f6145fe95106"
      },
      "execution_count": null,
      "outputs": [
        {
          "output_type": "execute_result",
          "data": {
            "text/plain": [
              "['name', 'Age', 'hair']"
            ]
          },
          "metadata": {},
          "execution_count": 41
        }
      ]
    },
    {
      "cell_type": "code",
      "source": [
        "type(list(dict_type.keys()))"
      ],
      "metadata": {
        "colab": {
          "base_uri": "https://localhost:8080/"
        },
        "id": "KY3Yzb8xsoIM",
        "outputId": "00eca021-f93a-4ca8-ce5c-b0f5106ca461"
      },
      "execution_count": null,
      "outputs": [
        {
          "output_type": "execute_result",
          "data": {
            "text/plain": [
              "list"
            ]
          },
          "metadata": {},
          "execution_count": 42
        }
      ]
    },
    {
      "cell_type": "code",
      "source": [
        "long_str = 'I like to party'\n",
        "list(long_str)"
      ],
      "metadata": {
        "colab": {
          "base_uri": "https://localhost:8080/"
        },
        "id": "iAVRSZfksvW1",
        "outputId": "40e0b76f-7130-4f95-ee24-61b7e5920dec"
      },
      "execution_count": null,
      "outputs": [
        {
          "output_type": "execute_result",
          "data": {
            "text/plain": [
              "['I', ' ', 'l', 'i', 'k', 'e', ' ', 't', 'o', ' ', 'p', 'a', 'r', 't', 'y']"
            ]
          },
          "metadata": {},
          "execution_count": 43
        }
      ]
    },
    {
      "cell_type": "code",
      "source": [
        "set(long_str)"
      ],
      "metadata": {
        "colab": {
          "base_uri": "https://localhost:8080/"
        },
        "id": "K-esGH3tto6M",
        "outputId": "3c3b9cc5-ef38-4908-d17a-15960f013482"
      },
      "execution_count": null,
      "outputs": [
        {
          "output_type": "execute_result",
          "data": {
            "text/plain": [
              "{' ', 'I', 'a', 'e', 'i', 'k', 'l', 'o', 'p', 'r', 't', 'y'}"
            ]
          },
          "metadata": {},
          "execution_count": 44
        }
      ]
    },
    {
      "cell_type": "markdown",
      "source": [
        "#BMI Calculator\n",
        "https://mercer-health.com/services/weight-management-center/bmi-calculator#:~:text=Body%20Mass%20Index%2C%20or%20BMI,inches%20x%20height%20in%20inches"
      ],
      "metadata": {
        "id": "4yB2AyLZh_eE"
      }
    },
    {
      "cell_type": "code",
      "source": [
        "#BMI = (weight in pounds * 703) / (height in inches * height in inches)"
      ],
      "metadata": {
        "id": "-t5zZX0eiDZf"
      },
      "execution_count": null,
      "outputs": []
    },
    {
      "cell_type": "code",
      "source": [
        "name = input('Enter your name: ')\n",
        "weight = int(input('Enter your weight in pounds: '))\n",
        "height = int(input('Enter your height in inches: '))\n",
        "BMI = (weight * 703) / (height * height)\n",
        "print(BMI)"
      ],
      "metadata": {
        "colab": {
          "base_uri": "https://localhost:8080/"
        },
        "id": "lxLWwsFkijHC",
        "outputId": "12f9cb5b-de25-424c-ea15-48f155ad9294"
      },
      "execution_count": null,
      "outputs": [
        {
          "output_type": "stream",
          "name": "stdout",
          "text": [
            "Enter your name: Alza\n",
            "Enter your weight in pounds: 119\n",
            "Enter your height in inches: 60\n",
            "23.238055555555555\n"
          ]
        }
      ]
    },
    {
      "cell_type": "code",
      "source": [
        "Under 18.5\tUnderweight\tMinimal\n",
        "18.5 - 24.9\tNormal Weight\tMinimal\n",
        "25 - 29.9\tOverweight\tIncreased\n",
        "30 - 34.9\tObese\tHigh\n",
        "35 - 39.9\tSeverely Obese Very High\n",
        "40 and over\tMorbidly Obese\tExtremely High"
      ],
      "metadata": {
        "id": "USotc47VjPiW"
      },
      "execution_count": null,
      "outputs": []
    },
    {
      "cell_type": "code",
      "source": [
        "if BMI>0 :\n",
        "  if(BMI<18.5):\n",
        "    print(name + ', You are underweight')\n",
        "  elif(BMI<= 24.9):\n",
        "    print(name +', You are normal weight')\n",
        "  elif(BMI<= 29.9):\n",
        "    print(name +' You are overweight')\n",
        "  elif(BMI<= 34.9):\n",
        "    print(name +' You are obese')\n",
        "  elif(BMI<= 39.9):\n",
        "    print(name +' You are severely obese')\n",
        "  else:\n",
        "    print(name +' You are morbidly obese')"
      ],
      "metadata": {
        "colab": {
          "base_uri": "https://localhost:8080/"
        },
        "id": "0BJ6xDmUnY1e",
        "outputId": "c8969d34-f437-4eab-ed8f-704fb3af2f21"
      },
      "execution_count": null,
      "outputs": [
        {
          "output_type": "stream",
          "name": "stdout",
          "text": [
            "Alza, You are normal weight\n"
          ]
        }
      ]
    },
    {
      "cell_type": "code",
      "source": [
        "name = input('Enter your name: ')\n",
        "weight = int(input('Enter your weight in pounds: '))\n",
        "height = int(input('Enter your height in inches: '))\n",
        "BMI = (weight * 703) / (height * height)\n",
        "print(BMI)\n",
        "\n",
        "if BMI>0 :\n",
        "  if(BMI<18.5):\n",
        "    print(name + ', You are underweight')\n",
        "  elif(BMI<= 24.9):\n",
        "    print(name +', You are normal weight')\n",
        "  elif(BMI<= 29.9):\n",
        "    print(name +' You are overweight')\n",
        "  elif(BMI<= 34.9):\n",
        "    print(name +' You are obese')\n",
        "  elif(BMI<= 39.9):\n",
        "    print(name +' You are severely obese')\n",
        "  else:\n",
        "    print(name +' You are morbidly obese')\n",
        "else :\n",
        "  print('Enter valid input')"
      ],
      "metadata": {
        "colab": {
          "base_uri": "https://localhost:8080/"
        },
        "id": "PI9obm8arC4n",
        "outputId": "a2f3cda7-8c61-489f-ecc9-19df116efc16"
      },
      "execution_count": null,
      "outputs": [
        {
          "output_type": "stream",
          "name": "stdout",
          "text": [
            "Enter your name: Alza\n",
            "Enter your weight in pounds: 119\n",
            "Enter your height in inches: 60\n",
            "23.238055555555555\n",
            "Alza, You are normal weight\n"
          ]
        }
      ]
    }
  ]
}